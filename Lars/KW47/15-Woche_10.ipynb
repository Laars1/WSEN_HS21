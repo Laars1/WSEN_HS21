{
 "cells": [
  {
   "cell_type": "markdown",
   "metadata": {
    "collapsed": true
   },
   "source": [
    "# Fibonacci Liste"
   ]
  },
  {
   "cell_type": "code",
   "execution_count": null,
   "metadata": {},
   "outputs": [],
   "source": [
    "def fibLis(n):\n",
    "  if n <= 0:\n",
    "     return []\n",
    "  if n == 1:\n",
    "     return [0]\n",
    "  result = [0, 1]\n",
    "  if n == 2:\n",
    "     return result\n",
    "  for i in range(2, n):\n",
    "     result.append(result[i - 2] + result[i - 1])\n",
    "  return result"
   ]
  },
  {
   "cell_type": "code",
   "execution_count": null,
   "metadata": {},
   "outputs": [],
   "source": [
    "def fibLis2(n):\n",
    "  if n <= 0:\n",
    "    return []\n",
    "  if n == 1:\n",
    "    return [0]\n",
    "  result = [0, 1]\n",
    "  if n == 2:\n",
    "    return result\n",
    "  else:\n",
    "    [result.append( ... ) for i in range(2, n)]\n",
    "    return result"
   ]
  },
  {
   "cell_type": "markdown",
   "metadata": {},
   "source": [
    "# for-loop mit else"
   ]
  },
  {
   "cell_type": "code",
   "execution_count": null,
   "metadata": {},
   "outputs": [],
   "source": [
    "list = ['Alpha', 'Bravo', 'Charlie']\n",
    "search = 'Foxtrot'\n",
    "for word in list:\n",
    "    if search == word:\n",
    "        print(search + ' found')\n",
    "        break\n",
    "else:\n",
    "    print(search + ' not found')"
   ]
  },
  {
   "cell_type": "markdown",
   "metadata": {},
   "source": [
    "# Primzahlen"
   ]
  },
  {
   "cell_type": "code",
   "execution_count": null,
   "metadata": {},
   "outputs": [],
   "source": [
    "from sympy import isprime\n",
    "a = 10 ** 12\n",
    "for i in range(1000):\n",
    "    if isprime(a + i):\n",
    "        print(i)"
   ]
  },
  {
   "cell_type": "code",
   "execution_count": null,
   "metadata": {
    "scrolled": true
   },
   "outputs": [],
   "source": [
    "def prime1(p):\n",
    "    for i in range(2, p):\n",
    "        if p % i == 0:\n",
    "            return False\n",
    "    return True"
   ]
  },
  {
   "cell_type": "code",
   "execution_count": null,
   "metadata": {},
   "outputs": [],
   "source": [
    "from math import sqrt\n",
    "def prime2(p):\n",
    "    pass"
   ]
  },
  {
   "cell_type": "code",
   "execution_count": null,
   "metadata": {},
   "outputs": [],
   "source": [
    "from math import sqrt\n",
    "def prime3(p):\n",
    "    pass"
   ]
  },
  {
   "cell_type": "code",
   "execution_count": null,
   "metadata": {},
   "outputs": [],
   "source": [
    "import time\n",
    "start = time.time()\n",
    "prime1(10 ** 12 + 39)\n",
    "end = time.time()\n",
    "print(end - start)"
   ]
  },
  {
   "cell_type": "code",
   "execution_count": null,
   "metadata": {},
   "outputs": [],
   "source": [
    "valid = False\n",
    "while not valid:\n",
    "    try:\n",
    "        x = int(input(\"Zahl x >= 2: \"))\n",
    "        if x >= 2:\n",
    "            valid = True\n",
    "    except:\n",
    "        pass\n",
    "\n",
    "if prime3(x):\n",
    "    print(str(x) + \" ist eine Primzahl.\")\n",
    "else:\n",
    "    print(str(x) + \" ist keine Primzahl.\")"
   ]
  },
  {
   "cell_type": "markdown",
   "metadata": {},
   "source": [
    "# Funktionen"
   ]
  },
  {
   "cell_type": "code",
   "execution_count": null,
   "metadata": {},
   "outputs": [],
   "source": [
    "mal = lambda x, y : x * y\n",
    "plus = lambda x, y : x + y"
   ]
  },
  {
   "cell_type": "markdown",
   "metadata": {},
   "source": [
    "# Zeichenkodierung"
   ]
  },
  {
   "cell_type": "code",
   "execution_count": null,
   "metadata": {},
   "outputs": [],
   "source": [
    "zk = 'Alpha'\n",
    "# zk = '心博扩音器'"
   ]
  },
  {
   "cell_type": "code",
   "execution_count": null,
   "metadata": {},
   "outputs": [],
   "source": [
    "for ch in zk:\n",
    "\n",
    "    print(ord(ch))"
   ]
  }
 ],
 "metadata": {
  "kernelspec": {
   "display_name": "Python 3 (ipykernel)",
   "language": "python",
   "name": "python3"
  },
  "language_info": {
   "codemirror_mode": {
    "name": "ipython",
    "version": 3
   },
   "file_extension": ".py",
   "mimetype": "text/x-python",
   "name": "python",
   "nbconvert_exporter": "python",
   "pygments_lexer": "ipython3",
   "version": "3.8.12"
  }
 },
 "nbformat": 4,
 "nbformat_minor": 2
}
