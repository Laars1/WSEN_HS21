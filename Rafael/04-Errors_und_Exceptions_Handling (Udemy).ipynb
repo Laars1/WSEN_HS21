{
 "cells": [
  {
   "cell_type": "markdown",
   "metadata": {},
   "source": [
    "<a href=\"https://www.datamics.com/courses/online-courses/\">![title](bg_datamics_top.png)</a>\n",
    "\n",
    "<center><em>© Datamics</em></center><br><center><em>Besuche uns für mehr Informationen auf <a href='https://www.datamics.com/courses/online-courses/'>www.datamics.com</a></em>"
   ]
  },
  {
   "cell_type": "markdown",
   "metadata": {},
   "source": [
    "## Errors und Exceptions in Python\n",
    "\n",
    "In dieser Lektion werden wir mehr über Errors (Fehler) und die Anwendung von Exceptions (etwa: Ausnahmen) lernen! Und bis zu diesem Punkt im Kurs sind wir auch schon dem ein oder anderen Error begegnet. Zum Beispiel:"
   ]
  },
  {
   "cell_type": "code",
   "execution_count": null,
   "metadata": {},
   "outputs": [],
   "source": [
    "print('Hallo)"
   ]
  },
  {
   "cell_type": "markdown",
   "metadata": {},
   "source": [
    "Seht: wir erhalten einen SyntaxError mit der weiteren Beschreibung, dass es sich um einen EOL (End of Line Error) beim Lesen des Strings handelt. Das ist spezifisch genug, um zu erkennen, dass wir ein Anführungszeichen am Ende des Strings vergessen haben. Diese unterschiedlichen Error-Arten zu verstehen wird euch helfen, den Code viel schneller zu debuggen. Debuggen heißt Bugs (Fehler) zu entfernen, dass der Code fehlerfrei ausführbar ist.\n",
    "\n",
    "Diese Art von Error mit Beschreibung wird als Ausnahme (Exception) bezeichnet. Selbst wenn eine Anweisung oder ein Ausdruck syntaktisch korrekt ist, können Errors beim Ausführen auftauchen. Errors, die beim Ausführen gefunden werden, werden Exceptions genannt und sind nicht unbedingt fatal, wenn sie im Code entsprechend behandelt werden.\n",
    "\n",
    "Du kannst alle vorgegebenen (built-in) Ausnahmen [hier](https://docs.python.org/3/library/exceptions.html) nachlesen. Lass uns jetzt lernen, wie wir mit Errors und Exceptions umgehen können."
   ]
  },
  {
   "cell_type": "markdown",
   "metadata": {},
   "source": [
    "## try und except\n",
    "\n",
    "Die grundsätzliche Terminologie und Syntax, die in Python zum Umgang mit Errors verwendet wird, ist die `try` und `except` (etwa: Versuch und Ausnahme) Anweisung. Der Code, der eine Exception verursachen könnte, wird in den `try` Block geschrieben. Wie mit den Exceptions umgegangen werden soll, wird in den `except`-Blöcken festgelegt. Die Syntax sieht folgendermaßen aus:\n",
    "\n",
    "    try:\n",
    "       Hier werden die Operationen ausgeführt...\n",
    "       ...\n",
    "    except AusnahmeI:\n",
    "       Kommt es zu AusnahmeI, dann führe diesen Block aus.\n",
    "    except AusnahmeII:\n",
    "       Kommt es zu AusnahmeII, dann führe diesen Block aus.\n",
    "       ...\n",
    "    else:\n",
    "       Gibt es keine Ausnahme, dann führe diesen Block aus.\n",
    "       \n",
    "Wir können außerdem auch auf alle Ausnahmen überprüfen, indem wir einfach nur `except` angeben. Um das alles besser zu verstehen schauen wir uns jetzt ein Beispiel an:"
   ]
  },
  {
   "cell_type": "code",
   "execution_count": null,
   "metadata": {},
   "outputs": [],
   "source": [
    "try:\n",
    "    f = open('testdatei', 'w')\n",
    "    f.write('Test schreibe dies')\n",
    "except IOError:\n",
    "    # Dies findet nur statt wenn ein IOError aufgetreten ist\n",
    "    print(\"Error: Konnte die Datei nicht beschreiben oder lesen\")\n",
    "else:\n",
    "    print(\"Datei erfolgreich beschrieben\")\n",
    "    f.close()"
   ]
  },
  {
   "cell_type": "markdown",
   "metadata": {},
   "source": [
    "Jetzt können wir schauen, was passiert, wenn wir die Datei ohne Schreiberlaubnis öffnen (nur mit 'r'):"
   ]
  },
  {
   "cell_type": "code",
   "execution_count": null,
   "metadata": {},
   "outputs": [],
   "source": [
    "try:\n",
    "    f = open('testdatei', 'r')\n",
    "    f.write('Test schreibe dies')\n",
    "except IOError:\n",
    "    # Dies findet nur statt wenn ein IOError aufgetreten ist\n",
    "    print(\"Error: Konnte die Datei nicht beschreiben oder lesen\")\n",
    "else:\n",
    "    print(\"Datei erfolgreich beschrieben\")\n",
    "    f.close()"
   ]
  },
  {
   "cell_type": "markdown",
   "metadata": {},
   "source": [
    "Toll! Beachte, dass wir nur eine `print`-Anweisung ausgeführt haben. Der Code wurde trotzdem ausgeführt und wir sind in der Lage, weitere Aktionen auszuführen. Das ist extrem nützlich, wenn man auf mögliche Input Errors im Code achten muss. So könnt ihr euch auf den Error vorbereiten und den Code weiterlaufen lassen, anstatt den Code abbrechen zu lassen, wie wir es oben gesehen haben.\n",
    "\n",
    "Wir hätten außerdem auch einfach nur `except` schreiben können, dann wären wir uns über die Art der Exception aber nicht sicher gewesen:"
   ]
  },
  {
   "cell_type": "code",
   "execution_count": null,
   "metadata": {},
   "outputs": [],
   "source": [
    "try:\n",
    "    f = open('testdatei', 'r')\n",
    "    f.write('Test schreibe dies')\n",
    "except IOError:\n",
    "    # Dies findet bei einer beliebigen Exception statt\n",
    "    print(\"Error: irgendein Fehler ist aufgetreten\")\n",
    "else:\n",
    "    print(\"Datei erfolgreich beschrieben\")\n",
    "    f.close()"
   ]
  },
  {
   "cell_type": "markdown",
   "metadata": {},
   "source": [
    "Gut! Denn das bedeutet, dass wir uns hier nicht alle möglichen Exceptions merken müssen. Was wäre, wenn wir wollten, dass der Code nach der Exception weiterläuft? Hier kommt <b>finally</b> ins Spiel.\n",
    "\n",
    "## finally\n",
    "\n",
    "Der `finally` Block im Code wird immer ausgeführt, unabhängig davon, ob eine Exception aufgetreten ist oder nicht. Die Syntax lautet:\n",
    "\n",
    "    try:\n",
    "        Code Block hier\n",
    "        ...\n",
    "        Durch irgendeine Ausnahme könnte dieser Code übersprungen werden!\n",
    "    finally:\n",
    "        Dieser Code Block wird immer ausgeführt!\n",
    "        \n",
    "Ein Beispiel:"
   ]
  },
  {
   "cell_type": "code",
   "execution_count": null,
   "metadata": {},
   "outputs": [],
   "source": [
    "try:\n",
    "    f = open(\"testdatei\", \"w\")\n",
    "    f.write(\"Test schreibe dies\")\n",
    "    f.close()\n",
    "finally:\n",
    "    print(\"Finalen Block immer ausführen\")"
   ]
  },
  {
   "cell_type": "markdown",
   "metadata": {},
   "source": [
    "Wir können dies auch mit <code>except</code> kombinieren. Sehen wir uns das an einem neuen Beispiel an, welches eine mögliche fehlerhafte Eingabe des Benutzers berücksichtigt:"
   ]
  },
  {
   "cell_type": "code",
   "execution_count": null,
   "metadata": {},
   "outputs": [],
   "source": [
    "def int_frage():\n",
    "    \"\"\" Funktion zum Erfragen eines Integerwerts. \"\"\"\n",
    "    try:\n",
    "        wert = int(input(\"Bitte gebe eine Zahl ein: \"))\n",
    "    except:\n",
    "        print(\"Sieht aus, als ob du keine Zahl eingegeben hast!\")\n",
    "    finally:\n",
    "        print(\"Aber immerhin wurde ich ausgeführt!\")"
   ]
  },
  {
   "cell_type": "code",
   "execution_count": null,
   "metadata": {},
   "outputs": [],
   "source": [
    "int_frage()"
   ]
  },
  {
   "cell_type": "code",
   "execution_count": null,
   "metadata": {},
   "outputs": [],
   "source": [
    "int_frage()"
   ]
  },
  {
   "cell_type": "markdown",
   "metadata": {},
   "source": [
    "Wir erhalten hier trotzdem einen Error, wenn wir versuchen, `wert` auszugeben. Das liegt daran, dass es nie richtig zugewiesen wurde. Wir können einen weiteren Versuch implementieren:"
   ]
  },
  {
   "cell_type": "code",
   "execution_count": null,
   "metadata": {},
   "outputs": [],
   "source": [
    "def int_frage():\n",
    "    \"\"\" Funktion zum Erfragen eines Integerwerts. \"\"\"\n",
    "    \n",
    "    try:\n",
    "        wert = int(input(\"Bitte gebe eine Zahl ein: \"))\n",
    "    except:\n",
    "        print(\"Sieht aus, als ob du keine Zahl eingegeben hast!\")\n",
    "        wert = int(input(\"Versuche es erneut - gebe bitte eine Zahl ein: \"))\n",
    "    finally:\n",
    "        print(\"Aber immerhin wurde ich ausgeführt!\")\n",
    "    print(wert)"
   ]
  },
  {
   "cell_type": "code",
   "execution_count": null,
   "metadata": {},
   "outputs": [],
   "source": [
    "int_frage()"
   ]
  },
  {
   "cell_type": "markdown",
   "metadata": {},
   "source": [
    "Hmm...das hat jetzt nur genau einen weiteren Versuch gestattet. Wie können wir das kontinuierlich überprüfen? Indem wir eine `while`-Schleife verwenden!"
   ]
  },
  {
   "cell_type": "code",
   "execution_count": null,
   "metadata": {},
   "outputs": [],
   "source": [
    "def int_frage():\n",
    "    \"\"\" Funktion zum Erfragen eines Integerwerts. \"\"\"\n",
    "\n",
    "    while True:\n",
    "        try:\n",
    "            wert = int(input(\"Bitte gebe eine Zahl ein: \"))\n",
    "        except:\n",
    "            print(\"Sieht aus, als ob du keine Zahl eingegeben hast!\")\n",
    "            continue\n",
    "        else:\n",
    "            print(\"Ja, das war eine Zahl!\")\n",
    "            break\n",
    "        finally:\n",
    "            print(\"Aber immerhin wurde ich ausgeführt!\")\n",
    "        print(wert)"
   ]
  },
  {
   "cell_type": "code",
   "execution_count": null,
   "metadata": {},
   "outputs": [],
   "source": [
    "int_frage()"
   ]
  },
  {
   "cell_type": "markdown",
   "metadata": {},
   "source": [
    "Warum hat unsere Funktion \"Aber immerhin wurde ich ausgeführt!\" nach jedem Versuch ausgegeben, aber nie `wert` selbst? Dies liegt daran, dass die Anweisungen `continue` und `break` erst *nach* dem Abschluss eines try/except/finally-Blocks ausgeführt werden. Das heisst, obwohl die erfolgreiche Eingabe von **3** uns zur `else:`-Anweisung bringt, welche ein `break` ausführt, wird dennoch der Codeblock in `finally:` ausgeführt, bevor die `while`-Schleife beendet wird. Und da `print(wert)` ausserhalb des `try`-Blocks liegt, verhindert `break`, dass es ausgeführt wird.\n",
    "\n",
    "Lasst uns eine letzte Änderung vornehmen:"
   ]
  },
  {
   "cell_type": "code",
   "execution_count": null,
   "metadata": {},
   "outputs": [],
   "source": [
    "def int_frage():\n",
    "    \"\"\" Funktion zum Erfragen eines Integerwerts. \"\"\"\n",
    "\n",
    "    while True:\n",
    "        try:\n",
    "            wert = int(input(\"Bitte gebe eine Zahl ein: \"))\n",
    "        except:\n",
    "            print(\"Sieht aus, als ob du keine Zahl eingegeben hast!\")\n",
    "            continue\n",
    "        else:\n",
    "            print(\"Ja, das war eine Zahl!\")\n",
    "            print(wert)\n",
    "            break\n",
    "        finally:\n",
    "            print(\"Aber immerhin wurde ich ausgeführt!\")"
   ]
  },
  {
   "cell_type": "code",
   "execution_count": null,
   "metadata": {},
   "outputs": [],
   "source": [
    "int_frage()"
   ]
  },
  {
   "cell_type": "markdown",
   "metadata": {},
   "source": [
    "Jetzt wisst ihr, wie ihr mit Errors und Ausnahmen in Python umgehen könnt. Denkt immer an die try, except, else und finally Notation!\n",
    "\n",
    "## Super!"
   ]
  }
 ],
 "metadata": {
  "kernelspec": {
   "display_name": "Python 3 (ipykernel)",
   "language": "python",
   "name": "python3"
  },
  "language_info": {
   "codemirror_mode": {
    "name": "ipython",
    "version": 3
   },
   "file_extension": ".py",
   "mimetype": "text/x-python",
   "name": "python",
   "nbconvert_exporter": "python",
   "pygments_lexer": "ipython3",
   "version": "3.8.8"
  },
  "varInspector": {
   "cols": {
    "lenName": 16,
    "lenType": 16,
    "lenVar": 40
   },
   "kernels_config": {
    "python": {
     "delete_cmd_postfix": "",
     "delete_cmd_prefix": "del ",
     "library": "var_list.py",
     "varRefreshCmd": "print(var_dic_list())"
    },
    "r": {
     "delete_cmd_postfix": ") ",
     "delete_cmd_prefix": "rm(",
     "library": "var_list.r",
     "varRefreshCmd": "cat(var_dic_list()) "
    }
   },
   "types_to_exclude": [
    "module",
    "function",
    "builtin_function_or_method",
    "instance",
    "_Feature"
   ],
   "window_display": false
  }
 },
 "nbformat": 4,
 "nbformat_minor": 1
}
