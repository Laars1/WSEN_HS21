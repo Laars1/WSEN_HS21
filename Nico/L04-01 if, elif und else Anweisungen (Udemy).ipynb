{
 "cells": [
  {
   "cell_type": "markdown",
   "source": [
    "# if, elif und else Anweisungen\n",
    "\n",
    "if Anweisungen erlauben uns in Python dem Computer aufzutragen, alternative Aktionen in Abhängigkeit von bestimmten Ergebnissen durchzuführen.\n",
    "\n",
    "Das können wir so ausdrücken:\n",
    "\n",
    "\"Hey, wenn dieser Fall eintritt, dann mache etwas Bestimmtes.\"\n",
    "\n",
    "Diese Idee können wir dann durch `elif` und `else` Anweisungen erweitern, welche uns Folgendes ermöglichen:\n",
    "\n",
    "\"Hey, wenn dieser Fall eintritt (if), dann mache etwas Bestimmtes. Wenn ein anderer Fall eintritt (elif), dann mache etwas anderes Bestimmtes. Und sonst (else) - wenn keiner der anderen Fälle zutrifft - mache etwas anderes Bestimmtes.\"\n",
    "\n",
    "Lasst uns die Syntax dafür betrachten: \n",
    "\n",
    "    if Fall 1:\n",
    "        erste Aktion\n",
    "    elif Fall 2:\n",
    "        zweite Aktion\n",
    "    else:\n",
    "        dritte Aktion\n",
    "        \n",
    "Auch hier kommt das bereits bekannte Konzept der Blöcke durch Zeileneinzug ins Spiel. Die eingerückten Blöcke (hier Aktion 1 bis 3) werden nur ausgeführt, falls die vorherige Überprüfung logisch `true` (dt.: wahr) ist. \n",
    "\n",
    "## Erstes Beispiel\n",
    "\n",
    "Lasst uns ein kurzes Beispiel betrachten:"
   ],
   "metadata": {
    "collapsed": true
   }
  },
  {
   "cell_type": "code",
   "execution_count": null,
   "source": [
    "if True:\n",
    "    print('Es war wahr!')"
   ],
   "outputs": [],
   "metadata": {}
  },
  {
   "cell_type": "markdown",
   "source": [
    "## Halt! Was ist eigentlich \"wahr\"?\n",
    "\n",
    "\n",
    "In Python wird eine Logik zu dieser Definition verwendet, die darauf aufbaut, `true` durch sein Gegenteil zu bestimmen. Das heißt, alles was nicht `false` ist, hat den Wert `true`. Wir brauchen also nur zu definieren, was \"falsch\", also `false` ist.\n",
    "\n",
    "Als `false` gilt in Python:\n",
    "\n",
    "* numerische Null-Werte(0, 0L, 0.0, 0.0+0.0j),\n",
    "* der Boolean Wert `False`,\n",
    "* leere Zeichenketten,\n",
    "* leere Listen, \n",
    "* leere Tupel,\n",
    "* leere Dictionaries,\n",
    "* sowie der spezielle Wert None. \n",
    "\n",
    "Alle anderen Werte betrachtet Python als `true`. "
   ],
   "metadata": {}
  },
  {
   "cell_type": "markdown",
   "source": [
    "## else Logik\n",
    "\n",
    "Eine else Logik hinzufügen:"
   ],
   "metadata": {}
  },
  {
   "cell_type": "code",
   "execution_count": null,
   "source": [
    "x = False\n",
    "\n",
    "if x:\n",
    "    print('X war wahr!')\n",
    "else:\n",
    "    print('Ich werde in jedem Fall ausgegeben, in dem x nicht wahr ist')"
   ],
   "outputs": [],
   "metadata": {}
  },
  {
   "cell_type": "markdown",
   "source": [
    "## Mehrere Zweige\n",
    "\n",
    "Wir können nun betrachten, wie weit uns if, elif und else bringen können!\n",
    "\n",
    "Wir schreiben eine eingebettete Struktur. Achtet darauf, wie if, elif und else auf selber Höhe geschrieben sind. Das kann euch helfen, zu verstehen, welche if, elif und else zusammenhängen.\n",
    "\n",
    "Wir nutzen jetzt die bereits bekannten Vergleichsoperatoren:"
   ],
   "metadata": {}
  },
  {
   "cell_type": "code",
   "execution_count": null,
   "source": [
    "loc = 'Bank'\n",
    "\n",
    "if loc == 'Autohaus':\n",
    "    print('Willkommen im Autohaus!')\n",
    "elif loc == 'Bank':\n",
    "    print('Willkommen in der Bank!')\n",
    "else:\n",
    "    print('Wo bist du?')"
   ],
   "outputs": [],
   "metadata": {}
  },
  {
   "cell_type": "markdown",
   "source": [
    "Das funktioniert so, dass jedes Statement daraufhin überprüft wird, ob es True (wahr) ist. Sobald das der Fall ist, wird der eingebettete Code ausgeführt. Würde dieser Fall nicht eintreffen, würde das else Statement aktiviert werden. Dabei ist interessant, dass wir so viele elif Statements einbauen können wie wir möchten, bevor wir mit dem else Statement abschließen.\n",
    "\n",
    "Lasst uns zwei weitere einfache Beispiele für die if, elif und else Anweisungen betrachten:"
   ],
   "metadata": {}
  },
  {
   "cell_type": "code",
   "execution_count": null,
   "source": [
    "person = 'Sammy'\n",
    "\n",
    "if person == 'Sammy':\n",
    "    print('Wilkommen Sammy!')\n",
    "else:\n",
    "    print(\"Willkommen, wie lautet dein Name?\")"
   ],
   "outputs": [],
   "metadata": {}
  },
  {
   "cell_type": "code",
   "execution_count": 1,
   "source": [
    "person = 'George'\n",
    "\n",
    "if person == 'Sammy':\n",
    "    print('Wilkommen Sammy!')\n",
    "elif person == 'George':\n",
    "    print('Wilkommen George!')\n",
    "else:\n",
    "    print(\"Willkommen, wie lautet dein Name?\")"
   ],
   "outputs": [
    {
     "output_type": "stream",
     "name": "stdout",
     "text": [
      "Wilkommen George!\n"
     ]
    }
   ],
   "metadata": {}
  },
  {
   "cell_type": "markdown",
   "source": [
    "## Zeileneinzug\n",
    "\n",
    "Es ist wichtig, immer auf den Einzug des Codes nach den Anweisungen zu achten. Dies stellt die korrekte Reihenfolge und Ausführung des Codes sicher."
   ],
   "metadata": {}
  }
 ],
 "metadata": {
  "kernelspec": {
   "name": "python3",
   "display_name": "Python 3.8.8 64-bit ('base': conda)"
  },
  "language_info": {
   "codemirror_mode": {
    "name": "ipython",
    "version": 3
   },
   "file_extension": ".py",
   "mimetype": "text/x-python",
   "name": "python",
   "nbconvert_exporter": "python",
   "pygments_lexer": "ipython3",
   "version": "3.8.8"
  },
  "interpreter": {
   "hash": "dca0ade3e726a953b501b15e8e990130d2b7799f14cfd9f4271676035ebe5511"
  }
 },
 "nbformat": 4,
 "nbformat_minor": 2
}