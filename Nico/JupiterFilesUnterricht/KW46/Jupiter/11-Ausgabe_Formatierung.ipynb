{
 "cells": [
  {
   "cell_type": "markdown",
   "metadata": {
    "collapsed": true
   },
   "source": [
    "# Theis, Listing 5.7"
   ]
  },
  {
   "cell_type": "code",
   "execution_count": null,
   "metadata": {},
   "outputs": [],
   "source": [
    "# Zahl mit Nachkommastellen\n",
    "x = 100/7\n",
    "y = 2/7\n",
    "print(\"Zahlen:\", x, y)\n",
    "print()\n",
    "\n",
    "# Format f\n",
    "print(f\"Format f, Standard:   {x:f} {x:f} {y:f}\")\n",
    "print(f\"Format f, nach Komma: {x:.25f}\")\n",
    "print(f\"Format f, gesamt:     {x:15.10f}\")\n",
    "print()\n",
    "\n",
    "# Format e\n",
    "print(f\"Format e, Standard:   {x:e}\")\n",
    "print(f\"Format e, nach Komma: {x:.3e}\")\n",
    "print(f\"Format e, gesamt:     {x:12.3e}\")\n",
    "print()\n",
    "\n",
    "# Format %\n",
    "print(f\"Format %, Standard:   {y:%}\")\n",
    "print(f\"Format %, nach Komma: {y:.3%}\")\n",
    "print(f\"Format %, gesamt:     {y:12.3%}\")\n"
   ]
  },
  {
   "cell_type": "code",
   "execution_count": 1,
   "metadata": {},
   "outputs": [
    {
     "name": "stdout",
     "output_type": "stream",
     "text": [
      "Zahlen: 14.285714285714286 0.2857142857142857\n",
      "\n",
      "Format f, Standard: 14.285714 14.285714 0.285714 \n",
      "Format f, nach Komma: 14.2857142857142864755815026\n",
      "Format f, gesamt:   14.2857142857\n"
     ]
    }
   ],
   "source": [
    "#Formatierung mit einem F String\n",
    "\n",
    "x = 100/7\n",
    "y = 2/7 \n",
    "\n",
    "print(\"Zahlen:\",x,y)\n",
    "print()\n",
    "\n",
    "#Format f = fliesskommazahlen\n",
    "#Bei Standard werden 6 Kommastellen gedruck\n",
    "#Bei nach Komma werden 25 Nachkommastellen ausgegeben\n",
    "#Bei gesammt werden 10 Nachkommastellen ausgegeben Die 15 zeigt an - wie lange die Feldlänge sein wird. Bei weniger Zahlen wird vor der Zahl mit \n",
    "#Komma aufgefüllt.\n",
    "\n",
    "print(f\"Format f, Standard: {x:f} {x:f} {y:f} \")\n",
    "print(f\"Format f, nach Komma: {x:.25f}\")\n",
    "print(f\"Format f, gesamt: {x:15.10f}\")"
   ]
  },
  {
   "cell_type": "markdown",
   "metadata": {},
   "source": [
    "# Theis, Listing 5.8"
   ]
  },
  {
   "cell_type": "code",
   "execution_count": 5,
   "metadata": {},
   "outputs": [
    {
     "name": "stdout",
     "output_type": "stream",
     "text": [
      " dez     dual oct hex\n",
      "  59   111011  73  3b\n",
      "  60   111100  74  3c\n",
      "  61   111101  75  3d\n",
      "  62   111110  76  3e\n",
      "  63   111111  77  3f\n",
      "  64  1000000 100  40\n",
      "  65  1000001 101  41\n",
      "  66  1000010 102  42\n",
      "  67  1000011 103  43\n",
      "  68  1000100 104  44\n",
      "\n",
      "  Nr        Name Anz           EP           GP\n",
      "0023       Apfel   1    2.95 Euro    2.95 Euro\n",
      "0008      Banane   3    1.45 Euro    4.35 Euro\n",
      "0042    Pfirsich   5    3.05 Euro   15.25 Euro\n"
     ]
    }
   ],
   "source": [
    "# Formatierung von Zeichenketten\n",
    "#Überschrift der Tabelle wird hier gedruck. < = linksbündig > = rechtsbündig\n",
    "print(f\"{'dez':>4}{'dual':>9}{'oct':>4}{'hex':>4}\")\n",
    "\n",
    "# Formatierung ganzer Zahlen\n",
    "for z in range(59,69):\n",
    "    print(f\"{z:4d}{z:9b}{z:4o}{z:4x}\")\n",
    "print()\n",
    "\n",
    "# Tabelle mit verschiedenen Objekten\n",
    "artname = {23:\"Apfel\", 8:\"Banane\", 42:\"Pfirsich\"}\n",
    "anzahl = {23:1, 8:3, 42:5}\n",
    "epreis = {23:2.95, 8:1.45, 42:3.05}\n",
    "\n",
    "print(f\"{'Nr':>4}{'Name':>12}{'Anz':>4}{'EP':>13}{'GP':>13}\")\n",
    "for x in 23, 8, 42:\n",
    "#die Ausgabe 04d bedeutet - dass die 0 Zahlen nicht unterdrückt werden und angezeigt werden.\n",
    "    print(f\"{x:04d}{artname[x]:>12}{anzahl[x]:4d}\"\n",
    "          f\"{epreis[x]:8.2f} Euro{anzahl[x] * epreis[x]:8.2f} Euro\")\n",
    "\n"
   ]
  },
  {
   "cell_type": "code",
   "execution_count": 36,
   "metadata": {},
   "outputs": [
    {
     "name": "stdout",
     "output_type": "stream",
     "text": [
      "  n      2**n\n",
      "  0         1\n",
      "  1         2\n",
      "  2         4\n",
      "  3         8\n",
      "  4        16\n",
      "  5        32\n",
      "  6        64\n",
      "  7       128\n",
      "  8       256\n"
     ]
    }
   ],
   "source": [
    "#10d das D Steht hier für Dezimal, b steht für binät, o steht für octa, x steht für hexa\n",
    "\n",
    "print(f\"{'n':>3}{'2**n':>10}\")\n",
    "for i in range(9):\n",
    "    print(f\"{i:3d} {2**i:10d}\")"
   ]
  }
 ],
 "metadata": {
  "interpreter": {
   "hash": "40d3a090f54c6569ab1632332b64b2c03c39dcf918b08424e98f38b5ae0af88f"
  },
  "kernelspec": {
   "display_name": "Python 3.8.8 64-bit ('base': conda)",
   "name": "python3"
  },
  "language_info": {
   "codemirror_mode": {
    "name": "ipython",
    "version": 3
   },
   "file_extension": ".py",
   "mimetype": "text/x-python",
   "name": "python",
   "nbconvert_exporter": "python",
   "pygments_lexer": "ipython3",
   "version": "3.8.8"
  }
 },
 "nbformat": 4,
 "nbformat_minor": 2
}
