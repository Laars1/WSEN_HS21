{
 "cells": [
  {
   "cell_type": "markdown",
   "metadata": {
    "collapsed": true
   },
   "source": [
    "# Theis, Listing 5.17"
   ]
  },
  {
   "cell_type": "code",
   "execution_count": 2,
   "metadata": {},
   "outputs": [
    {
     "name": "stdout",
     "output_type": "stream",
     "text": [
      "1.4142135623730951\n"
     ]
    }
   ],
   "source": [
    "from math import sqrt\n",
    "print(eval(\"sqrt(2.0)\"))"
   ]
  },
  {
   "cell_type": "code",
   "execution_count": 3,
   "metadata": {},
   "outputs": [
    {
     "name": "stdout",
     "output_type": "stream",
     "text": [
      "1.4142135623730951\n"
     ]
    }
   ],
   "source": [
    "from math import sqrt\n",
    "print(sqrt(2.0))"
   ]
  },
  {
   "cell_type": "code",
   "execution_count": 4,
   "metadata": {},
   "outputs": [
    {
     "name": "stdout",
     "output_type": "stream",
     "text": [
      "1.4142135623730951\n"
     ]
    }
   ],
   "source": [
    "exec(\"from math import sqrt\\nprint(sqrt(2.0))\")"
   ]
  },
  {
   "cell_type": "code",
   "execution_count": 6,
   "metadata": {},
   "outputs": [
    {
     "name": "stdout",
     "output_type": "stream",
     "text": [
      "0\n",
      "1\n",
      "2\n",
      "3\n",
      "4\n",
      "5\n",
      "6\n",
      "7\n",
      "8\n",
      "9\n"
     ]
    }
   ],
   "source": [
    "exec(\"for i in range(10):\\n print(i)\")"
   ]
  },
  {
   "cell_type": "code",
   "execution_count": 11,
   "metadata": {},
   "outputs": [
    {
     "name": "stdout",
     "output_type": "stream",
     "text": [
      "Hello World\n",
      "Hello World\n",
      "HelloWorld\n"
     ]
    }
   ],
   "source": [
    "#Mit dem parameter end kann eine Zeile ausgeschaltet werden. Dabei wird als Endzeichen ein Space anstatt einer Zeilenumschaltung ausgeführt.\n",
    "#\\n wird nicht verwendet da dies standartmässig voreingestellt ist. \n",
    "\n",
    "print(\"Hello\", end=\" \")\n",
    "print(\"World\")\n",
    "\n",
    "#Alternativ kann das Hello World auch so ausgegeben werden\n",
    "print(\"Hello\",\"World\")\n",
    "\n",
    "#Der Sebparator , kann mithilfe des Befehls seb=\"\" geändert werden. Wenn dort nicht standartmässig eine Lücke gespeichert werden soll dann folgender Massen:\n",
    "print(\"Hello\", \"World\", sep=\"\")"
   ]
  },
  {
   "cell_type": "code",
   "execution_count": 15,
   "metadata": {},
   "outputs": [
    {
     "name": "stdout",
     "output_type": "stream",
     "text": [
      "Zahlen: 14.285714285714286 0.2857142857142857\n",
      "\n",
      "Format f, Standard: 14.285714 14.285714 0.285714 \n",
      "Format f, nach Komma: 14.2857142857142864755815026\n",
      "Format f, gesamt:   14.2857142857\n"
     ]
    }
   ],
   "source": [
    "#Formatierung mit einem F String\n",
    "\n",
    "x = 100/7\n",
    "y = 2/7 \n",
    "\n",
    "print(\"Zahlen:\",x,y)\n",
    "print()\n",
    "\n",
    "#Format f = fliesskommazahlen\n",
    "#Bei Standard werden 6 Kommastellen gedruck\n",
    "#Bei nach Komma werden 25 Nachkommastellen ausgegeben\n",
    "#Bei gesammt werden 10 Nachkommastellen ausgegeben Die 15 zeigt an - wie lange die Feldlänge sein wird. Bei weniger Zahlen wird vor der Zahl mit \n",
    "#Komma aufgefüllt.\n",
    "\n",
    "print(f\"Format f, Standard: {x:f} {x:f} {y:f} \")\n",
    "print(f\"Format f, nach Komma: {x:.25f}\")\n",
    "print(f\"Format f, gesamt: {x:15.10f}\")"
   ]
  },
  {
   "cell_type": "code",
   "execution_count": null,
   "metadata": {},
   "outputs": [],
   "source": [
    "# Zwei Beispiellisten\n",
    "xliste = [3, 6, 8, 9, 15]\n",
    "print(xliste)\n",
    "yliste = [2, 13, 4, 8, 4]\n",
    "print(yliste)\n",
    "print()\n",
    "\n",
    "# Beispiel 1: Version ohne List Comprehension\n",
    "aliste = []\n",
    "for item in xliste:\n",
    "    aliste.append(item+1)\n",
    "print(aliste)\n",
    "\n",
    "# Beispiel 1: Version mit List Comprehension\n",
    "aliste = [item + 1 for item in xliste]\n",
    "print(aliste)\n",
    "print()\n",
    "\n",
    "# Beispiel 2: Version ohne List Comprehension\n",
    "bliste = []\n",
    "for item in xliste:\n",
    "    if item > 7:\n",
    "        bliste.append(item + 1)\n",
    "print(bliste)\n",
    "\n",
    "# Beispiel 2: Version mit List Comprehension\n",
    "bliste = [item + 1 for item in xliste if item > 7]\n",
    "print(bliste)\n",
    "print()\n",
    "\n",
    "# Beispiel 3: Version ohne List Comprehension\n",
    "cliste = []\n",
    "for i in range(len(xliste)):\n",
    "    if xliste[i] < 10 and yliste[i] < 10:\n",
    "        cliste.append(xliste[i]*10 + yliste[i])\n",
    "print(cliste)\n",
    "\n",
    "# Beispiel 3: Version mit List Comprehension\n",
    "cliste = [xliste[i]*10 + yliste[i]\n",
    "          for i in range(len(xliste))\n",
    "          if xliste[i] < 10 and yliste[i] < 10]\n",
    "print(cliste)"
   ]
  }
 ],
 "metadata": {
  "interpreter": {
   "hash": "40d3a090f54c6569ab1632332b64b2c03c39dcf918b08424e98f38b5ae0af88f"
  },
  "kernelspec": {
   "display_name": "Python 3.8.8 64-bit ('base': conda)",
   "name": "python3"
  },
  "language_info": {
   "codemirror_mode": {
    "name": "ipython",
    "version": 3
   },
   "file_extension": ".py",
   "mimetype": "text/x-python",
   "name": "python",
   "nbconvert_exporter": "python",
   "pygments_lexer": "ipython3",
   "version": "3.8.8"
  }
 },
 "nbformat": 4,
 "nbformat_minor": 2
}
