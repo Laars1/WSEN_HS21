{
 "cells": [
  {
   "cell_type": "markdown",
   "source": [
    "# Strings\n",
    "\n",
    "`Strings` werden in Python dazu benutzt, um Textinformationen, wie bspw. Namen, festzuhalten. \n",
    "\n",
    "## Sequenzen\n",
    "\n",
    "Genau genommen sind Strings in Python eine Sequenz. Das bedeutet, dass Python jedes einzelne Element in der Sequenz (in diesem Fall ein String) individuell beachtet. Ein Beispiel ist der String \"hallo\", den Python als Sequenz der einzelnen Buchstaben in einer **bestimmten Reihenfolge speichert**. Das hat zur Folge, dass wir später in der Lage sein werden zu **indexieren** und so bestimmte Buchstaben (z.B. den ersten oder letzten) aus einem String auszulesen.\n",
    "\n",
    "Diese Idee einer Sequenz ist wichtig in Python und sie wird uns begleiten.\n",
    "\n",
    "Zu den Sequenzen in Python gehören:\n",
    "\n",
    "* Strings\n",
    "* Listen\n",
    "* Tupel\n",
    "* Binärdaten\n",
    "\n",
    "## Zurück zu Strings\n",
    "\n",
    "In dieser Lektion werden wir folgendes lernen:\n",
    "\n",
    "1. Erstellen von Strings\n",
    "2. Ausgeben von Strings\n",
    "3. Unterschiede in der Ausgabe von Python 2 und Python 3\n",
    "4. Indexierung von Strings und Zerteilen\n",
    "5. String Eigenschaften\n",
    "6. String Methoden\n",
    "7. Ausgabe Formatierung"
   ],
   "metadata": {}
  },
  {
   "cell_type": "markdown",
   "source": [
    "## Erstellen von Strings\n",
    "\n",
    "Um einen String in Python zu erstellen müssen wir entweder einfache oder doppelte Anführungszeichen benutzen. Zum Beispiel:"
   ],
   "metadata": {}
  },
  {
   "cell_type": "code",
   "execution_count": 5,
   "source": [
    "# Einzelnes Wort\r\n",
    "'hallo'"
   ],
   "outputs": [
    {
     "output_type": "execute_result",
     "data": {
      "text/plain": [
       "'hallo'"
      ]
     },
     "metadata": {},
     "execution_count": 5
    }
   ],
   "metadata": {}
  },
  {
   "cell_type": "code",
   "execution_count": 6,
   "source": [
    "# Ganze Phrase\r\n",
    "'Das ist ein String'"
   ],
   "outputs": [
    {
     "output_type": "execute_result",
     "data": {
      "text/plain": [
       "'Das ist ein String'"
      ]
     },
     "metadata": {},
     "execution_count": 6
    }
   ],
   "metadata": {}
  },
  {
   "cell_type": "code",
   "execution_count": 7,
   "source": [
    "# Wir können auch doppelte Anführungszeichen benutzen\r\n",
    "\"String mit doppelten Anführungszeichen\""
   ],
   "outputs": [
    {
     "output_type": "execute_result",
     "data": {
      "text/plain": [
       "'String mit doppelten Anführungszeichen'"
      ]
     },
     "metadata": {},
     "execution_count": 7
    }
   ],
   "metadata": {}
  },
  {
   "cell_type": "code",
   "execution_count": 8,
   "source": [
    "# Gebt Acht bei der Verwendung von Anführungszeichen\r\n",
    "'Ich bins ein String, der Probleme verursacht'"
   ],
   "outputs": [
    {
     "output_type": "execute_result",
     "data": {
      "text/plain": [
       "'Ich bins ein String, der Probleme verursacht'"
      ]
     },
     "metadata": {},
     "execution_count": 8
    }
   ],
   "metadata": {}
  },
  {
   "cell_type": "code",
   "execution_count": 9,
   "source": [
    "\"Ich bin's wieder, aber dieses mal ohne Probleme\""
   ],
   "outputs": [
    {
     "output_type": "execute_result",
     "data": {
      "text/plain": [
       "\"Ich bin's wieder, aber dieses mal ohne Probleme\""
      ]
     },
     "metadata": {},
     "execution_count": 9
    }
   ],
   "metadata": {}
  },
  {
   "cell_type": "markdown",
   "source": [
    "Lasst uns jetzt etwas über die Ausgabe von Strings lernen!"
   ],
   "metadata": {}
  },
  {
   "cell_type": "markdown",
   "source": [
    "## Ausgabe von Strings\n",
    "\n",
    "Da wir Jupyter Notebooks benutzen, wird, wenn wir in den Zellen einen String erstellen, dieser automatisch ausgegeben. Die richtige Vorgehensweise, um Strings im Output auszugeben, ist allerdings die Verwendung der `print` Funktion."
   ],
   "metadata": {}
  },
  {
   "cell_type": "code",
   "execution_count": 10,
   "source": [
    "# Wir können einen String einfach deklarieren\r\n",
    "'Hallo Welt!'"
   ],
   "outputs": [
    {
     "output_type": "execute_result",
     "data": {
      "text/plain": [
       "'Hallo Welt!'"
      ]
     },
     "metadata": {},
     "execution_count": 10
    }
   ],
   "metadata": {}
  },
  {
   "cell_type": "code",
   "execution_count": 11,
   "source": [
    "# Bemerkenswert, dass wir nicht mehrere Strings ausgeben können\r\n",
    "'Hallo Erde'\r\n",
    "'Hallo Mond'"
   ],
   "outputs": [
    {
     "output_type": "execute_result",
     "data": {
      "text/plain": [
       "'Hallo Mond'"
      ]
     },
     "metadata": {},
     "execution_count": 11
    }
   ],
   "metadata": {}
  },
  {
   "cell_type": "markdown",
   "source": [
    "Wir können aber auch das print Statement verwenden, um den String auszugeben."
   ],
   "metadata": {}
  },
  {
   "cell_type": "code",
   "execution_count": 12,
   "source": [
    "print('Hallo Erde')\r\n",
    "print('Hallo Mond')\r\n",
    "print('Nutze \\n um in einer neuen Zeile auszugeben')\r\n",
    "print('\\n')\r\n",
    "print('Seht ihr, was ich meine?')\r\n"
   ],
   "outputs": [
    {
     "output_type": "stream",
     "name": "stdout",
     "text": [
      "Hallo Erde\n",
      "Hallo Mond\n",
      "Nutze \n",
      " um in einer neuen Zeile auszugeben\n",
      "\n",
      "\n",
      "Seht ihr, was ich meine?\n"
     ]
    }
   ],
   "metadata": {}
  },
  {
   "cell_type": "markdown",
   "source": [
    "## String Grundlagen\n",
    "\n",
    "Wir können die Funktion len() nutzen, um die Länge eines Strings zu ermitteln!"
   ],
   "metadata": {}
  },
  {
   "cell_type": "code",
   "execution_count": 13,
   "source": [
    "len('Hallo Welt')"
   ],
   "outputs": [
    {
     "output_type": "execute_result",
     "data": {
      "text/plain": [
       "10"
      ]
     },
     "metadata": {},
     "execution_count": 13
    }
   ],
   "metadata": {}
  },
  {
   "cell_type": "markdown",
   "source": [
    "## String Indexierung\n",
    "\n",
    "Wir wissen bereits, dass Strings eine Sequenz sind, für die Python einen Index bilden kann, um bestimmte Teile aufzurufen. Lasst uns herausfinden, wie das funktioniert.\n",
    "\n",
    "In Python nutzen wir [] nach einem Objekt, um den Index aufzurufen. Dabei gilt zu beachten, dass der Index in Python bei 0 beginnt. Wir können jetzt ein neues Objekt erstellen und ein paar Beispiele für Indexierung betrachten."
   ],
   "metadata": {}
  },
  {
   "cell_type": "code",
   "execution_count": 14,
   "source": [
    "# Dem Objekt s einen String zuweisen\r\n",
    "s = 'Hallo Welt'"
   ],
   "outputs": [],
   "metadata": {}
  },
  {
   "cell_type": "code",
   "execution_count": 15,
   "source": [
    "# Check\r\n",
    "s"
   ],
   "outputs": [
    {
     "output_type": "execute_result",
     "data": {
      "text/plain": [
       "'Hallo Welt'"
      ]
     },
     "metadata": {},
     "execution_count": 15
    }
   ],
   "metadata": {}
  },
  {
   "cell_type": "code",
   "execution_count": 16,
   "source": [
    "# Das Objekt ausgeben\r\n",
    "print(s)"
   ],
   "outputs": [
    {
     "output_type": "stream",
     "name": "stdout",
     "text": [
      "Hallo Welt\n"
     ]
    }
   ],
   "metadata": {}
  },
  {
   "cell_type": "markdown",
   "source": [
    "Jetzt können wir mit dem Indexieren loslegen."
   ],
   "metadata": {}
  },
  {
   "cell_type": "code",
   "execution_count": 17,
   "source": [
    "# Zeige das erste Element (in diesem Fall einen Buchstaben)\r\n",
    "s[0]"
   ],
   "outputs": [
    {
     "output_type": "execute_result",
     "data": {
      "text/plain": [
       "'H'"
      ]
     },
     "metadata": {},
     "execution_count": 17
    }
   ],
   "metadata": {}
  },
  {
   "cell_type": "code",
   "execution_count": 18,
   "source": [
    "s[1]"
   ],
   "outputs": [
    {
     "output_type": "execute_result",
     "data": {
      "text/plain": [
       "'a'"
      ]
     },
     "metadata": {},
     "execution_count": 18
    }
   ],
   "metadata": {}
  },
  {
   "cell_type": "code",
   "execution_count": 19,
   "source": [
    "s[2]"
   ],
   "outputs": [
    {
     "output_type": "execute_result",
     "data": {
      "text/plain": [
       "'l'"
      ]
     },
     "metadata": {},
     "execution_count": 19
    }
   ],
   "metadata": {}
  },
  {
   "cell_type": "markdown",
   "source": [
    "## Ausschneiden\n",
    "\n",
    "Wir können einen : verwenden, um Teile eines Strings auszuschneiden (en.: slicing). Der englische Begriff \"*Slicing*\" wird auch im deutschen Sprachgebrauch häufig verwendet. Ihr solltet ihn also im Kopf behalten.\n",
    "\n",
    "Beim Slicing wird alles von einer bis zu einer anderen angegebenen Stelle gewählt. Wir können den Start oder Endpunkt weglassen, um verschiedene besondere Effekte zu erzeugen. Zum Beispiel:"
   ],
   "metadata": {}
  },
  {
   "cell_type": "code",
   "execution_count": 20,
   "source": [
    "# Alles nach dem ersten Index auswählen\r\n",
    "s[1:]"
   ],
   "outputs": [
    {
     "output_type": "execute_result",
     "data": {
      "text/plain": [
       "'allo Welt'"
      ]
     },
     "metadata": {},
     "execution_count": 20
    }
   ],
   "metadata": {}
  },
  {
   "cell_type": "code",
   "execution_count": 21,
   "source": [
    "# Beachtet, dass sich am Original s nichts ändert\r\n",
    "s"
   ],
   "outputs": [
    {
     "output_type": "execute_result",
     "data": {
      "text/plain": [
       "'Hallo Welt'"
      ]
     },
     "metadata": {},
     "execution_count": 21
    }
   ],
   "metadata": {}
  },
  {
   "cell_type": "code",
   "execution_count": 22,
   "source": [
    "# Alles bis zum dritten Index auswählen\r\n",
    "s[:3]"
   ],
   "outputs": [
    {
     "output_type": "execute_result",
     "data": {
      "text/plain": [
       "'Hal'"
      ]
     },
     "metadata": {},
     "execution_count": 22
    }
   ],
   "metadata": {}
  },
  {
   "cell_type": "markdown",
   "source": [
    "Schaut euch die Aufteilung oben genau an. Wir haben Python beauftragt alles von Index 0 bis Index 3 zu nehmen. Dabei wurde der dritte Index nicht eingeschlossen. Ihr werdet feststellen, dass Python Anweisungen und Methoden gewöhnlich im Sinne von \"bis zu, aber nicht einschließlich\" interpretiert."
   ],
   "metadata": {}
  },
  {
   "cell_type": "code",
   "execution_count": 23,
   "source": [
    "# Alles\r\n",
    "s[:]"
   ],
   "outputs": [
    {
     "output_type": "execute_result",
     "data": {
      "text/plain": [
       "'Hallo Welt'"
      ]
     },
     "metadata": {},
     "execution_count": 23
    }
   ],
   "metadata": {}
  },
  {
   "cell_type": "markdown",
   "source": [
    "Wir können außerdem negative Indexierung verwenden, um rückwärts zu gehen."
   ],
   "metadata": {}
  },
  {
   "cell_type": "code",
   "execution_count": 24,
   "source": [
    "# Der letzte Buchstabe (einer hinter Index 0, \r\n",
    "# wordurch Python von hinten liest)\r\n",
    "s[-1]"
   ],
   "outputs": [
    {
     "output_type": "execute_result",
     "data": {
      "text/plain": [
       "'t'"
      ]
     },
     "metadata": {},
     "execution_count": 24
    }
   ],
   "metadata": {}
  },
  {
   "cell_type": "code",
   "execution_count": 25,
   "source": [
    "# Alles außer dem letzten Buchstaben\r\n",
    "s[:-1]"
   ],
   "outputs": [
    {
     "output_type": "execute_result",
     "data": {
      "text/plain": [
       "'Hallo Wel'"
      ]
     },
     "metadata": {},
     "execution_count": 25
    }
   ],
   "metadata": {}
  },
  {
   "cell_type": "markdown",
   "source": [
    "Zusätzlich können wir den Index nutzen, um Elemente einer Sequenz in bestimmten Schrittgrößen auszuwählen (wobei 1 als Standard gesetzt ist). Das heißt weiter, dass wir zwei Doppelpunkte gefolgt von einer Zahl nutzen können, um die Frequenz zu bestimmen. Ein Beispiel:"
   ],
   "metadata": {}
  },
  {
   "cell_type": "code",
   "execution_count": 26,
   "source": [
    "# Wähle alles, aber gehe in Schritten der Größe 1\r\n",
    "s[::1]"
   ],
   "outputs": [
    {
     "output_type": "execute_result",
     "data": {
      "text/plain": [
       "'Hallo Welt'"
      ]
     },
     "metadata": {},
     "execution_count": 26
    }
   ],
   "metadata": {}
  },
  {
   "cell_type": "code",
   "execution_count": 27,
   "source": [
    "# Wähle alles, aber gehe in Schritten der Größe 2\r\n",
    "s[::2]"
   ],
   "outputs": [
    {
     "output_type": "execute_result",
     "data": {
      "text/plain": [
       "'HloWl'"
      ]
     },
     "metadata": {},
     "execution_count": 27
    }
   ],
   "metadata": {}
  },
  {
   "cell_type": "code",
   "execution_count": 28,
   "source": [
    "# So können wir einen String rückwärts ausgeben\r\n",
    "s[::-1]"
   ],
   "outputs": [
    {
     "output_type": "execute_result",
     "data": {
      "text/plain": [
       "'tleW ollaH'"
      ]
     },
     "metadata": {},
     "execution_count": 28
    }
   ],
   "metadata": {}
  },
  {
   "cell_type": "markdown",
   "source": [
    "## String Eigenschaften\n",
    "\n",
    "Es ist wichtig eine bestimmte Eigenschaft von Strings hervorzuheben: ihre Unveränderlichkeit. \n",
    "\n",
    "Das bedeutet, dass in einem String, sobald er erstellt wurde, die Elemente nicht geändert oder ersetzt werden können. Zum Beispiel:"
   ],
   "metadata": {}
  },
  {
   "cell_type": "code",
   "execution_count": 29,
   "source": [
    "s"
   ],
   "outputs": [
    {
     "output_type": "execute_result",
     "data": {
      "text/plain": [
       "'Hallo Welt'"
      ]
     },
     "metadata": {},
     "execution_count": 29
    }
   ],
   "metadata": {}
  },
  {
   "cell_type": "code",
   "execution_count": 30,
   "source": [
    "# Wir versuchen den ersten Buchstaben zu einem 'x' zu ändern\r\n",
    "s[0]='x'"
   ],
   "outputs": [
    {
     "output_type": "error",
     "ename": "TypeError",
     "evalue": "'str' object does not support item assignment",
     "traceback": [
      "\u001b[1;31m---------------------------------------------------------------------------\u001b[0m",
      "\u001b[1;31mTypeError\u001b[0m                                 Traceback (most recent call last)",
      "\u001b[1;32m~\\AppData\\Local\\Temp/ipykernel_19712/2088480731.py\u001b[0m in \u001b[0;36m<module>\u001b[1;34m\u001b[0m\n\u001b[0;32m      1\u001b[0m \u001b[1;31m# Wir versuchen den ersten Buchstaben zu einem 'x' zu ändern\u001b[0m\u001b[1;33m\u001b[0m\u001b[1;33m\u001b[0m\u001b[0m\n\u001b[1;32m----> 2\u001b[1;33m \u001b[0ms\u001b[0m\u001b[1;33m[\u001b[0m\u001b[1;36m0\u001b[0m\u001b[1;33m]\u001b[0m\u001b[1;33m=\u001b[0m\u001b[1;34m'x'\u001b[0m\u001b[1;33m\u001b[0m\u001b[1;33m\u001b[0m\u001b[0m\n\u001b[0m",
      "\u001b[1;31mTypeError\u001b[0m: 'str' object does not support item assignment"
     ]
    }
   ],
   "metadata": {}
  },
  {
   "cell_type": "markdown",
   "source": [
    "Beachtet, wie der Error uns genau sagt, was wir nicht tun konnten: die Zuordnung des Elements (en.: item assignment) ändern.\n",
    "\n",
    "Etwas das wir tun können, ist dem String etwas anzuhängen."
   ],
   "metadata": {}
  },
  {
   "cell_type": "code",
   "execution_count": null,
   "source": [
    "s"
   ],
   "outputs": [],
   "metadata": {}
  },
  {
   "cell_type": "code",
   "execution_count": null,
   "source": [
    "# Strings erweitern\r\n",
    "s + ' erweitere mich!'"
   ],
   "outputs": [],
   "metadata": {}
  },
  {
   "cell_type": "code",
   "execution_count": null,
   "source": [
    "# Wir können s jedoch komplett überschreiben\r\n",
    "s = s + ' erweitere mich!'"
   ],
   "outputs": [],
   "metadata": {}
  },
  {
   "cell_type": "code",
   "execution_count": null,
   "source": [
    "print(s)"
   ],
   "outputs": [],
   "metadata": {}
  },
  {
   "cell_type": "code",
   "execution_count": null,
   "source": [
    "s"
   ],
   "outputs": [],
   "metadata": {}
  },
  {
   "cell_type": "markdown",
   "source": [
    "Und wir können das Multiplikationszeichen nutzen, um Wiederholungen zu erstellen."
   ],
   "metadata": {}
  },
  {
   "cell_type": "code",
   "execution_count": null,
   "source": [
    "buchstabe = 'z'"
   ],
   "outputs": [],
   "metadata": {}
  },
  {
   "cell_type": "code",
   "execution_count": null,
   "source": [
    "buchstabe*10"
   ],
   "outputs": [],
   "metadata": {}
  },
  {
   "cell_type": "markdown",
   "source": [
    "## Eingebaute grundlegende String Methoden\n",
    "\n",
    "Objekte in Python haben üblicherweise eingebaute Methoden. Diese Methoden sind Funktionen innerhalb eines Objekts (wir werden später noch viel mehr darüber lernen), die Aktionen oder Kommandos am Objekt selbst ausführen.\n",
    "\n",
    "Wir rufen diese Methoden durch einen Punkt und den Methodennamen auf. In folgender Form:\n",
    "\n",
    "    Objekt.Methode(Parameter)\n",
    "\n",
    "Dabei sind Parameter zusätzliche Argumente die wir der Methode auftragen können. Keine Sorge, falls das aktuell noch nicht 100% klar ist. Später werden wir unsere eigenen Objekte und Methoden erstellen!\n",
    "\n",
    "Hier sind einige Beispiele eingebauter Methoden für Strings:"
   ],
   "metadata": {}
  },
  {
   "cell_type": "code",
   "execution_count": null,
   "source": [
    "s"
   ],
   "outputs": [],
   "metadata": {}
  },
  {
   "cell_type": "code",
   "execution_count": null,
   "source": [
    "# String in Großbuchstaben\r\n",
    "s.upper()"
   ],
   "outputs": [],
   "metadata": {}
  },
  {
   "cell_type": "code",
   "execution_count": null,
   "source": [
    "# Kleinbuchstaben\r\n",
    "s.lower()"
   ],
   "outputs": [],
   "metadata": {}
  },
  {
   "cell_type": "code",
   "execution_count": null,
   "source": [
    "# Einen String bei den \r\n",
    "# Leerzeichen (das ist die Standardeinstellung) trennen\r\n",
    "s.split()"
   ],
   "outputs": [],
   "metadata": {}
  },
  {
   "cell_type": "code",
   "execution_count": null,
   "source": [
    "# Bei einem speziellen Element trennen\r\n",
    "# (wobei das Element nicht enthalten bleibt)\r\n",
    "s.split('W')"
   ],
   "outputs": [],
   "metadata": {}
  },
  {
   "cell_type": "markdown",
   "source": [
    "Es gibt viele weitere Methoden über die hinaus, die hier behandelt wurden. Wenn wir uns Fortgeschrittene Strings anschauen, lernen wir noch mehr davon."
   ],
   "metadata": {}
  },
  {
   "cell_type": "markdown",
   "source": [
    "## Print Formatierung\n",
    "\n",
    "Wir können die .format() Methode benutzen, um formatierte Objekte zu ausgegebenen Strings hinzuzufügen.\n",
    "\n",
    "Am leichtesten ist dies an einem Beispiel erklärt:"
   ],
   "metadata": {}
  },
  {
   "cell_type": "code",
   "execution_count": null,
   "source": [
    "'Fuegt einen weiteren String mit geschwungenen Klammern hinzu: {}'.format('Der eingefuegte String')"
   ],
   "outputs": [],
   "metadata": {}
  },
  {
   "cell_type": "markdown",
   "source": [
    "Wir werden der print Formatierung noch mehr Beachtung schenken, wenn wir in einer späteren Lektion an unseren Projekten arbeiten.\n",
    "\n",
    "Im nächsten Kapitel beschäftigen wir uns mit: Listen."
   ],
   "metadata": {}
  }
 ],
 "metadata": {
  "kernelspec": {
   "name": "python3",
   "display_name": "Python 3.9.7 64-bit (windows store)"
  },
  "language_info": {
   "codemirror_mode": {
    "name": "ipython",
    "version": 3
   },
   "file_extension": ".py",
   "mimetype": "text/x-python",
   "name": "python",
   "nbconvert_exporter": "python",
   "pygments_lexer": "ipython3",
   "version": "3.9.7"
  },
  "interpreter": {
   "hash": "177f568770f557b82e488c50c9297c287c9c2d437d3feaeb6397e2e5eef103ef"
  }
 },
 "nbformat": 4,
 "nbformat_minor": 2
}