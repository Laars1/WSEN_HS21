{
 "cells": [
  {
   "cell_type": "markdown",
   "source": [
    "# for-Schleifen\n",
    "\n",
    "Eine `for`-Schleife (en.: for loop) fungiert als Iterator in Python, die durch Items (etwa: Elemente) geht, die in einer Sequenz (oder jeder anderen iterierbaren Form) vorliegen. Objekte, die wir bereits behandelt haben und auf die wir diese Iteration anwenden können sind Strings, Listen, Tupel und bereits vorinstallierte Iteratoren für Dictionaries, wie bspw. keys und values.\n",
    "\n",
    "Wir haben die `for`-Schleife bereits in vorherigen Abschnitten ein wenig kennen gelernt. Lasst uns unser Verständnis an dieser Stelle vertiefen.\n",
    "\n",
    "Hier ist das allgemeine Format einer `for`-Schleife in Python:\n",
    "\n",
    "    for item in objekt:\n",
    "        anweisungen  "
   ],
   "metadata": {}
  },
  {
   "cell_type": "markdown",
   "source": [
    "Der Name, der für das Item verwendet wird, obliegt vollkommen dem Coder. Das ermöglicht uns den nach eigenem Ermessen am besten passenden Namen auszuwählen. Der festgelegte Itemname kann dann innerhalb der Schleifen als Referenz verwendet werden. Zum Beispiel, wenn wir ein `if` Statement für das Item durchführen wollen.\n",
    "\n",
    "Weiter geht es mit einigen Beispielen für `for`-Schleifen in Kombination mit einer Vielzahl von Objektarten. Wir beginnen einfach und steigern das Niveau schrittweise.\n",
    "\n",
    "Let's go ahead and work through several example of <code>for</code> loops using a variety of data object types. We'll start simple and build more complexity later on.\n",
    "\n",
    "## Beispiel 1 - Listeniteration"
   ],
   "metadata": {}
  },
  {
   "cell_type": "code",
   "execution_count": 24,
   "source": [
    "# Wie wir solche Listen automatisieren können lernen wir in der nächsten Lektion\r\n",
    "meine_liste = [1, 2, 3, 4, 5, 6, 7, 8, 9, 10]"
   ],
   "outputs": [],
   "metadata": {}
  },
  {
   "cell_type": "code",
   "execution_count": 25,
   "source": [
    "for num in meine_liste:\r\n",
    "    print(num)"
   ],
   "outputs": [
    {
     "output_type": "stream",
     "name": "stdout",
     "text": [
      "1\n",
      "2\n",
      "3\n",
      "4\n",
      "5\n",
      "6\n",
      "7\n",
      "8\n",
      "9\n",
      "10\n"
     ]
    }
   ],
   "metadata": {}
  },
  {
   "cell_type": "markdown",
   "source": [
    "Gut! Hoffentlich ergibt das Sinn für euch. Lasst uns nun ein if Statement einbauen, um auf gerade Zahlen zu überprüfen. Dazu führen wir noch ein neues Konzept ein - das Modulo.\n",
    "\n",
    "## Modulo\n",
    "\n",
    "Das Modulo erlaubt es uns, den Rest einer Division zu erhalten, indem wir % verwenden. Zum Beispiel:"
   ],
   "metadata": {}
  },
  {
   "cell_type": "code",
   "execution_count": 26,
   "source": [
    "17 % 5"
   ],
   "outputs": [
    {
     "output_type": "execute_result",
     "data": {
      "text/plain": [
       "2"
      ]
     },
     "metadata": {},
     "execution_count": 26
    }
   ],
   "metadata": {}
  },
  {
   "cell_type": "markdown",
   "source": [
    "Das ergibt Sinn, da 17 geteilt durch 5 als Ergebnis 3 hat mit einem Rest von 2. Einige weitere kurze Beispiele:"
   ],
   "metadata": {}
  },
  {
   "cell_type": "code",
   "execution_count": 27,
   "source": [
    "# 3 verbleibt 1\r\n",
    "10 % 3"
   ],
   "outputs": [
    {
     "output_type": "execute_result",
     "data": {
      "text/plain": [
       "1"
      ]
     },
     "metadata": {},
     "execution_count": 27
    }
   ],
   "metadata": {}
  },
  {
   "cell_type": "code",
   "execution_count": 28,
   "source": [
    "# 2 verbleibt 4\r\n",
    "18 % 7"
   ],
   "outputs": [
    {
     "output_type": "execute_result",
     "data": {
      "text/plain": [
       "4"
      ]
     },
     "metadata": {},
     "execution_count": 28
    }
   ],
   "metadata": {}
  },
  {
   "cell_type": "code",
   "execution_count": 29,
   "source": [
    "# 2 verbleibt nichts\r\n",
    "4 % 2"
   ],
   "outputs": [
    {
     "output_type": "execute_result",
     "data": {
      "text/plain": [
       "0"
      ]
     },
     "metadata": {},
     "execution_count": 29
    }
   ],
   "metadata": {}
  },
  {
   "cell_type": "markdown",
   "source": [
    "Sofern eine Zahl vollständig teilbar ist und keinen Rest hat, ist das Ergebnis von Modulo 0. Das können wir ausnutzen, um zu testen, ob eine Zahl eine ganze Zahl ist. \n",
    "\n",
    "Zurück zur `for`-Schleife!\n",
    "\n",
    "## Beispiel 2 - Nur gerade Nummern"
   ],
   "metadata": {}
  },
  {
   "cell_type": "code",
   "execution_count": 30,
   "source": [
    "for num in meine_liste:\r\n",
    "    if num % 2 == 0:\r\n",
    "        print(num)"
   ],
   "outputs": [
    {
     "output_type": "stream",
     "name": "stdout",
     "text": [
      "2\n",
      "4\n",
      "6\n",
      "8\n",
      "10\n"
     ]
    }
   ],
   "metadata": {}
  },
  {
   "cell_type": "markdown",
   "source": [
    "Wir können auch eine `else`-Anweisung einbauen:"
   ],
   "metadata": {}
  },
  {
   "cell_type": "code",
   "execution_count": 31,
   "source": [
    "for num in meine_liste:\r\n",
    "    if num % 2 == 0:\r\n",
    "        print(num)\r\n",
    "    else:\r\n",
    "        print('Ungerade Zahl')"
   ],
   "outputs": [
    {
     "output_type": "stream",
     "name": "stdout",
     "text": [
      "Ungerade Zahl\n",
      "2\n",
      "Ungerade Zahl\n",
      "4\n",
      "Ungerade Zahl\n",
      "6\n",
      "Ungerade Zahl\n",
      "8\n",
      "Ungerade Zahl\n",
      "10\n"
     ]
    }
   ],
   "metadata": {}
  },
  {
   "cell_type": "markdown",
   "source": [
    "## Beispiel 3 - Laufende Summe\n",
    "Eine weitere, gebräuchliche Anwendung ist es, während einer `for`-Schleife eine Art von laufender Summe zu erfassen. Zum Beispiel: Eine `for`-Schleife, welche die Summe einer Liste bildet."
   ],
   "metadata": {}
  },
  {
   "cell_type": "code",
   "execution_count": 32,
   "source": [
    "# Start der Summe bei 0\r\n",
    "l_sum = 0\r\n",
    "\r\n",
    "for num in meine_liste:\r\n",
    "    l_sum = l_sum + num\r\n",
    "\r\n",
    "print(l_sum)"
   ],
   "outputs": [
    {
     "output_type": "stream",
     "name": "stdout",
     "text": [
      "55\n"
     ]
    }
   ],
   "metadata": {}
  },
  {
   "cell_type": "markdown",
   "source": [
    "Toll! Schaut euch das obige Beispiel so lange an, bis ihr genau versteht, was passiert! Das hätten wir übrigens auch mit einem `+=` lösen können, wie hier:"
   ],
   "metadata": {}
  },
  {
   "cell_type": "code",
   "execution_count": 33,
   "source": [
    "# Start der Summe bei 0\r\n",
    "l_sum = 0\r\n",
    "\r\n",
    "for num in meine_liste:\r\n",
    "    l_sum += num\r\n",
    "\r\n",
    "print(l_sum)"
   ],
   "outputs": [
    {
     "output_type": "stream",
     "name": "stdout",
     "text": [
      "55\n"
     ]
    }
   ],
   "metadata": {}
  },
  {
   "cell_type": "markdown",
   "source": [
    "## Beispiel 4 - Strings\n",
    "\n",
    "Wir haben `for`-Schleifen bereits für Listen verwendet, aber wie sieht es mit Strings aus? Ruft euch in Erinnerung, dass Strings eine Sequenz sind. Wenn wir darüber eine Iteration laufen lassen, dann greifen wir auf jedes Zeichen in diesem String zu."
   ],
   "metadata": {}
  },
  {
   "cell_type": "code",
   "execution_count": 34,
   "source": [
    "for zeichen in 'Das ist ein String!':\r\n",
    "    print(zeichen)"
   ],
   "outputs": [
    {
     "output_type": "stream",
     "name": "stdout",
     "text": [
      "D\n",
      "a\n",
      "s\n",
      " \n",
      "i\n",
      "s\n",
      "t\n",
      " \n",
      "e\n",
      "i\n",
      "n\n",
      " \n",
      "S\n",
      "t\n",
      "r\n",
      "i\n",
      "n\n",
      "g\n",
      "!\n"
     ]
    }
   ],
   "metadata": {}
  },
  {
   "cell_type": "markdown",
   "source": [
    "## Beispiel 5 - Tupel\n",
    "\n",
    "Lasst uns als nächstes auch noch eine `for`-Schleife mit einem Tupel betrachten:"
   ],
   "metadata": {}
  },
  {
   "cell_type": "code",
   "execution_count": 35,
   "source": [
    "tup = (1, 2, 3, 4, 5)\r\n",
    "\r\n",
    "for item in tup:\r\n",
    "    print(item)"
   ],
   "outputs": [
    {
     "output_type": "stream",
     "name": "stdout",
     "text": [
      "1\n",
      "2\n",
      "3\n",
      "4\n",
      "5\n"
     ]
    }
   ],
   "metadata": {}
  },
  {
   "cell_type": "markdown",
   "source": [
    "## Beispiel 6 - Tupel entpacken\n",
    "\n",
    "Tupel haben eine besondere Eigenschaft in Kombination mit `for`-Schleifen. Wenn ihr eine Iteration über eine Sequenz laufen lasst, die Tupel beinhaltet, wird das Tupel selbst zum Item. Das ist ein Beispiel für das entpacken von Tupeln (*tupel unpacking*). Durch die `for`-Schleife werden wir die einzelnen Tupel innerhalb der Sequenz entpacken und können auf die einzelnen Items im Tupel selbst zugreifen."
   ],
   "metadata": {}
  },
  {
   "cell_type": "code",
   "execution_count": 36,
   "source": [
    "meine_liste = [(2, 4), (6, 8), (10, 12)]"
   ],
   "outputs": [],
   "metadata": {}
  },
  {
   "cell_type": "code",
   "execution_count": 37,
   "source": [
    "for tup in meine_liste:\r\n",
    "    print(tup)"
   ],
   "outputs": [
    {
     "output_type": "stream",
     "name": "stdout",
     "text": [
      "(2, 4)\n",
      "(6, 8)\n",
      "(10, 12)\n"
     ]
    }
   ],
   "metadata": {}
  },
  {
   "cell_type": "code",
   "execution_count": 38,
   "source": [
    "# Jetzt mit entpacken!\r\n",
    "for (t1, t2) in meine_liste:\r\n",
    "    print(t1)"
   ],
   "outputs": [
    {
     "output_type": "stream",
     "name": "stdout",
     "text": [
      "2\n",
      "6\n",
      "10\n"
     ]
    }
   ],
   "metadata": {}
  },
  {
   "cell_type": "markdown",
   "source": [
    "Cool! Mit Tupeln in einer Sequenz können wir durch Entpacken auf die Items innerhalb der Tupel zugreifen. Der Grund aus dem das wichtig ist der, dass viele Objekte ihre Iterationen in Form von Tupeln ausgeben. Lasst uns als nächstes Iterationen für Dictionaries betrachten, um das besser zu verstehen!"
   ],
   "metadata": {}
  },
  {
   "cell_type": "markdown",
   "source": [
    "## Beispiel 7 - Dictionaries"
   ],
   "metadata": {}
  },
  {
   "cell_type": "code",
   "execution_count": 39,
   "source": [
    "mein_dict = {'k1': 1, 'k2': 2, 'k3': 3}"
   ],
   "outputs": [],
   "metadata": {}
  },
  {
   "cell_type": "code",
   "execution_count": 40,
   "source": [
    "for item in mein_dict:\r\n",
    "    print(item)"
   ],
   "outputs": [
    {
     "output_type": "stream",
     "name": "stdout",
     "text": [
      "k1\n",
      "k2\n",
      "k3\n"
     ]
    }
   ],
   "metadata": {}
  },
  {
   "cell_type": "markdown",
   "source": [
    "Ist euch aufgefallen, wie das nur die Keys ausgibt? Wie können wir also an die Werte kommen? Oder wie erhalten wir beides, Keys und Werte?\n",
    "\n",
    "Dazu stellen wir drei weitere Dictionary-Methoden vor: **.keys()**, **.values()** und **.items()**\n",
    "\n",
    "In Python gibt jede dieser Methoden ein *dictionary view object* (etwa: Dictionary-Ansichtsobjekt) zurück. Es unterstützt Operationen wie Mitgliedschaftstest und Iteration, aber die Inhalte sind nicht unabhängig vom ursprünglichen Dictionary - es ist nur eine Ansicht. Lasst uns das anschauen:"
   ],
   "metadata": {}
  },
  {
   "cell_type": "code",
   "execution_count": 41,
   "source": [
    "# Erzeuge ein dictionary view object\r\n",
    "mein_dict.items()"
   ],
   "outputs": [
    {
     "output_type": "execute_result",
     "data": {
      "text/plain": [
       "dict_items([('k1', 1), ('k2', 2), ('k3', 3)])"
      ]
     },
     "metadata": {},
     "execution_count": 41
    }
   ],
   "metadata": {}
  },
  {
   "cell_type": "markdown",
   "source": [
    "Da die Methode `.items()` Iteration unterstützt, können wir das Dictionary entpacken (*dictionary unpacking*), um Keys und Values zu extrahieren, wie in vorherigen Beispielen."
   ],
   "metadata": {}
  },
  {
   "cell_type": "code",
   "execution_count": 42,
   "source": [
    "# Dictionary unpacking\r\n",
    "for k, v in mein_dict.items():\r\n",
    "    print(k)\r\n",
    "    print(v)"
   ],
   "outputs": [
    {
     "output_type": "stream",
     "name": "stdout",
     "text": [
      "k1\n",
      "1\n",
      "k2\n",
      "2\n",
      "k3\n",
      "3\n"
     ]
    }
   ],
   "metadata": {}
  },
  {
   "cell_type": "markdown",
   "source": [
    "Falls du eine echte Liste der Keys, Values oder Key/Value-Tupel erhalten möchtest, kannst du die Ansicht in eine Liste konvertieren:"
   ],
   "metadata": {}
  },
  {
   "cell_type": "code",
   "execution_count": 43,
   "source": [
    "list(mein_dict.keys())"
   ],
   "outputs": [
    {
     "output_type": "execute_result",
     "data": {
      "text/plain": [
       "['k1', 'k2', 'k3']"
      ]
     },
     "metadata": {},
     "execution_count": 43
    }
   ],
   "metadata": {}
  },
  {
   "cell_type": "markdown",
   "source": [
    "Bedenke: Dictionaries sind nicht geordnet, Keys und Values kommen daher in einer beliebigen Ordnung zurück. Mit `sorted` kann die Liste sortiert werden:"
   ],
   "metadata": {}
  },
  {
   "cell_type": "code",
   "execution_count": 44,
   "source": [
    "sorted(mein_dict.values())"
   ],
   "outputs": [
    {
     "output_type": "execute_result",
     "data": {
      "text/plain": [
       "[1, 2, 3]"
      ]
     },
     "metadata": {},
     "execution_count": 44
    }
   ],
   "metadata": {}
  },
  {
   "cell_type": "markdown",
   "source": [
    "## Schlussbetrachtung\n",
    "\n",
    "Wir haben gelernt, wie wir `for`-Loops nutzen können, um durch Tupel, Listen, Strings und Dictionaries zu iterieren. Es wird ein wichtiges Tool für uns werden, deshalb ist es wichtig, dass ihr es vollständig versteht.\n"
   ],
   "metadata": {}
  }
 ],
 "metadata": {
  "kernelspec": {
   "name": "python3",
   "display_name": "Python 3.9.7 64-bit (windows store)"
  },
  "language_info": {
   "codemirror_mode": {
    "name": "ipython",
    "version": 3
   },
   "file_extension": ".py",
   "mimetype": "text/x-python",
   "name": "python",
   "nbconvert_exporter": "python",
   "pygments_lexer": "ipython3",
   "version": "3.9.7"
  },
  "varInspector": {
   "cols": {
    "lenName": 16,
    "lenType": 16,
    "lenVar": 40
   },
   "kernels_config": {
    "python": {
     "delete_cmd_postfix": "",
     "delete_cmd_prefix": "del ",
     "library": "var_list.py",
     "varRefreshCmd": "print(var_dic_list())"
    },
    "r": {
     "delete_cmd_postfix": ") ",
     "delete_cmd_prefix": "rm(",
     "library": "var_list.r",
     "varRefreshCmd": "cat(var_dic_list()) "
    }
   },
   "types_to_exclude": [
    "module",
    "function",
    "builtin_function_or_method",
    "instance",
    "_Feature"
   ],
   "window_display": false
  },
  "interpreter": {
   "hash": "15da12a56cabd70a6f0c2c195284ad0958f4c3692afcc4483bfc2cc73ce5caaa"
  }
 },
 "nbformat": 4,
 "nbformat_minor": 1
}