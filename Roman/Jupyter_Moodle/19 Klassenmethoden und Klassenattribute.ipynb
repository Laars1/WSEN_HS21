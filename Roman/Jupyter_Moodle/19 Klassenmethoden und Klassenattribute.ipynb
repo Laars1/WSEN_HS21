{
 "cells": [
  {
   "cell_type": "code",
   "execution_count": null,
   "id": "d6c79b47",
   "metadata": {},
   "outputs": [],
   "source": [
    "class Konto:\n",
    "    __anzahl = 0\n",
    "    \n",
    "    def __init__(self):\n",
    "        Konto.__anzahl += 1\n",
    "    \n",
    "    @classmethod\n",
    "    def getAnzahl(cls):\n",
    "        return cls.__anzahl\n",
    "        \n",
    "class Sparkonto(Konto):\n",
    "    __anzahl = 0\n",
    "    \n",
    "    def __init__(self):\n",
    "        super().__init__()\n",
    "        Sparkonto.__anzahl += 1\n",
    "\n",
    "    @classmethod\n",
    "    def getAnzahl(cls):\n",
    "        return cls.__anzahl\n",
    "\n",
    "class Zahlungskonto(Konto):\n",
    "    __anzahl = 0\n",
    "    \n",
    "    def __init__(self):\n",
    "        super().__init__()\n",
    "        Zahlungskonto.__anzahl += 1\n",
    "    \n",
    "    @classmethod\n",
    "    def getAnzahl(cls):\n",
    "        return cls.__anzahl\n",
    "\n",
    "k = Konto()\n",
    "s1 = Sparkonto()\n",
    "z1 = Zahlungskonto()\n",
    "print(Konto.getAnzahl())\n",
    "print(Sparkonto.getAnzahl())"
   ]
  }
 ],
 "metadata": {
  "kernelspec": {
   "display_name": "Python 3 (ipykernel)",
   "language": "python",
   "name": "python3"
  },
  "language_info": {
   "codemirror_mode": {
    "name": "ipython",
    "version": 3
   },
   "file_extension": ".py",
   "mimetype": "text/x-python",
   "name": "python",
   "nbconvert_exporter": "python",
   "pygments_lexer": "ipython3",
   "version": "3.8.12"
  }
 },
 "nbformat": 4,
 "nbformat_minor": 5
}
